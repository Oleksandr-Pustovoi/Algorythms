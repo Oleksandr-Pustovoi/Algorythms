{
 "cells": [
  {
   "cell_type": "code",
   "execution_count": 1,
   "metadata": {
    "colab": {},
    "colab_type": "code",
    "id": "ak8b3KV45kVW"
   },
   "outputs": [],
   "source": [
    "import numpy as np\n",
    "import matplotlib.pyplot as plt\n",
    "plt.rcParams.update({'font.size': 14})"
   ]
  },
  {
   "cell_type": "code",
   "execution_count": 2,
   "metadata": {
    "colab": {},
    "colab_type": "code",
    "id": "i77tZbAd5plB"
   },
   "outputs": [],
   "source": [
    "X = np.array([[1, 1, 1, 1, 1, 1, 1, 1, 1, 1],   # для умножения на intercept\n",
    "              [1, 1, 2, 1, 3, 0, 5, 10, 1, 2]]) # стаж"
   ]
  },
  {
   "cell_type": "code",
   "execution_count": 3,
   "metadata": {
    "colab": {},
    "colab_type": "code",
    "id": "VsNrKi1Q6Wmh"
   },
   "outputs": [],
   "source": [
    "# средний балл ЕГЭ (целевая переменная)\n",
    "y = [45, 55, 50, 59, 65, 35, 75, 80, 50, 60]"
   ]
  },
  {
   "cell_type": "code",
   "execution_count": 4,
   "metadata": {
    "colab": {
     "base_uri": "https://localhost:8080/",
     "height": 34
    },
    "colab_type": "code",
    "id": "mnyZzkaDBegD",
    "outputId": "368800a6-deef-46d0-b27f-d6eb5e46a743"
   },
   "outputs": [
    {
     "data": {
      "text/plain": [
       "array([47.23214286,  3.91071429])"
      ]
     },
     "execution_count": 4,
     "metadata": {},
     "output_type": "execute_result"
    }
   ],
   "source": [
    "w = np.linalg.inv(X @ X.T) @ X @ y\n",
    "w"
   ]
  },
  {
   "cell_type": "code",
   "execution_count": 5,
   "metadata": {},
   "outputs": [],
   "source": [
    "def calc_mse(y, y_pred):\n",
    "    err = np.mean((y - y_pred)**2)\n",
    "    return err"
   ]
  },
  {
   "cell_type": "markdown",
   "metadata": {
    "colab_type": "text",
    "id": "huXrhXQsZTMt"
   },
   "source": [
    "1. Подберите скорость обучения (alpha) и количество итераций:"
   ]
  },
  {
   "cell_type": "code",
   "execution_count": 6,
   "metadata": {
    "colab": {
     "base_uri": "https://localhost:8080/",
     "height": 185
    },
    "colab_type": "code",
    "id": "IDB22MQKMYaJ",
    "outputId": "4c03219e-a57c-4583-f439-6699fd0619bb"
   },
   "outputs": [
    {
     "name": "stdout",
     "output_type": "stream",
     "text": [
      "0 [2.102 3.9  ] 3173.15\n",
      "100 [31.88770806  6.74418155] 175.19445858001848\n",
      "200 [41.83683774  4.90699865] 61.9177717428135\n",
      "300 [45.33508261  4.26102097] 47.913169919666764\n",
      "400 [46.56511152  4.03388672] 46.18175564810758\n",
      "500 [46.99760587  3.95402334] 45.96769776787538\n",
      "600 [47.14967657  3.92594232] 45.941233404700036\n",
      "700 [47.20314662  3.91606866] 45.93796156758049\n",
      "800 [47.2219474   3.91259695] 45.937557064435396\n",
      "900 [47.228558    3.91137626] 45.937507054979434\n",
      "1000 [47.23088237  3.91094704] 45.937500872219886\n"
     ]
    }
   ],
   "source": [
    "n = X.shape[1]\n",
    "alpha = 1e-2\n",
    "w = np.array([1, 0.5])\n",
    "\n",
    "for i in range(1100):\n",
    "    y_pred = np.dot(w, X)\n",
    "    err = calc_mse(y, y_pred)\n",
    "    for j in range(w.shape[0]):\n",
    "        w[j] -= alpha * (1/n * 2 * np.sum(X[j] * (y_pred - y)))\n",
    "    if i % 100 == 0:\n",
    "        print(i, w, err)"
   ]
  },
  {
   "cell_type": "markdown",
   "metadata": {
    "colab_type": "text",
    "id": "5Qu1o4JhZYwI"
   },
   "source": [
    "*2. В этом коде мы избавляемся от итераций по весам, но тут есть ошибка, исправьте ее:"
   ]
  },
  {
   "cell_type": "code",
   "execution_count": 7,
   "metadata": {
    "colab": {
     "base_uri": "https://localhost:8080/",
     "height": 185
    },
    "colab_type": "code",
    "id": "WZZzDCQLY4pA",
    "outputId": "28f58ade-72f2-4381-809d-2417752d56e4"
   },
   "outputs": [
    {
     "name": "stdout",
     "output_type": "stream",
     "text": [
      "0 [2.102 3.9  ] 3173.15\n",
      "100 [31.88770806  6.74418155] 175.19445858001848\n",
      "200 [41.83683774  4.90699865] 61.9177717428135\n",
      "300 [45.33508261  4.26102097] 47.913169919666764\n",
      "400 [46.56511152  4.03388672] 46.18175564810758\n",
      "500 [46.99760587  3.95402334] 45.96769776787538\n",
      "600 [47.14967657  3.92594232] 45.941233404700036\n",
      "700 [47.20314662  3.91606866] 45.93796156758049\n",
      "800 [47.2219474   3.91259695] 45.937557064435396\n",
      "900 [47.228558    3.91137626] 45.937507054979434\n",
      "1000 [47.23088237  3.91094704] 45.937500872219886\n"
     ]
    }
   ],
   "source": [
    "w = np.array([1, 0.5])\n",
    "\n",
    "for i in range(1100):\n",
    "    y_pred = np.dot(w, X)\n",
    "    err = calc_mse(y, y_pred)\n",
    "    w -= (alpha * (1/n * 2 * np.sum(X * (y_pred - y),axis=1)))\n",
    "# нужно было добавить параметр \"axis=1\", чтобы суммировались значения по строкам\n",
    "    if i % 100 == 0:\n",
    "        print(i, w, err)"
   ]
  },
  {
   "cell_type": "markdown",
   "metadata": {
    "colab": {},
    "colab_type": "code",
    "id": "kGLyytFgHdco"
   },
   "source": [
    "*3. Вместо того, чтобы задавать количество итераций, задайте условие остановки алгоритма - когда ошибка за итерацию начинает изменяться ниже определенного порога"
   ]
  },
  {
   "cell_type": "code",
   "execution_count": 9,
   "metadata": {},
   "outputs": [
    {
     "name": "stdout",
     "output_type": "stream",
     "text": [
      "Iteration  1032 [47.23122165  3.91088439] 45.93750046587032\n"
     ]
    }
   ],
   "source": [
    "i=1\n",
    "w = np.array([1, 0.5])\n",
    "err_old = 0\n",
    "err=1\n",
    "alpha = 1e-2\n",
    "\n",
    "while True:\n",
    "    y_pred = np.dot(w, X)\n",
    "    err = calc_mse(y, y_pred)\n",
    "    w -= (alpha * (1/n * 2 * np.sum(X * (y_pred - y),axis=1)))\n",
    "    i+=1\n",
    "    if(abs(err-err_old))<1e-8:# КРИТЕРИЙ = Прирост ошибки\n",
    "        break\n",
    "    else:\n",
    "        err_old = err\n",
    "\n",
    "print('Iteration ', i, w, err)"
   ]
  }
 ],
 "metadata": {
  "colab": {
   "collapsed_sections": [],
   "name": "Lesson1.ipynb",
   "provenance": []
  },
  "kernelspec": {
   "display_name": "Python 3",
   "language": "python",
   "name": "python3"
  },
  "language_info": {
   "codemirror_mode": {
    "name": "ipython",
    "version": 3
   },
   "file_extension": ".py",
   "mimetype": "text/x-python",
   "name": "python",
   "nbconvert_exporter": "python",
   "pygments_lexer": "ipython3",
   "version": "3.7.6"
  },
  "toc": {
   "base_numbering": 1,
   "nav_menu": {},
   "number_sections": false,
   "sideBar": true,
   "skip_h1_title": true,
   "title_cell": "Содержание",
   "title_sidebar": "Содержание",
   "toc_cell": false,
   "toc_position": {},
   "toc_section_display": true,
   "toc_window_display": false
  }
 },
 "nbformat": 4,
 "nbformat_minor": 1
}
